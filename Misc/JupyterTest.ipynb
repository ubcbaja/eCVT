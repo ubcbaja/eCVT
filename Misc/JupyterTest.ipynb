{
 "cells": [
  {
   "cell_type": "code",
   "execution_count": 1,
   "metadata": {
    "ExecuteTime": {
     "end_time": "2019-11-06T21:12:41.128247Z",
     "start_time": "2019-11-06T21:12:39.125840Z"
    }
   },
   "outputs": [],
   "source": [
    "import pandas as pd\n",
    "import numpy as np\n",
    "import matplotlib.pyplot as plt\n",
    "import seaborn as sns\n",
    "import time\n",
    "import datetime\n",
    "import sys"
   ]
  },
  {
   "cell_type": "code",
   "execution_count": 2,
   "metadata": {
    "ExecuteTime": {
     "end_time": "2019-11-06T21:12:42.457767Z",
     "start_time": "2019-11-06T21:12:42.375986Z"
    }
   },
   "outputs": [
    {
     "name": "stdout",
     "output_type": "stream",
     "text": [
      "   Time  Distance  Force\n",
      "0   0.0       0.0    0.0\n",
      "1   0.0       0.0    0.0\n",
      "2   0.0       0.0    0.0\n",
      "3   0.0       0.0    0.0\n",
      "4   0.0       0.0    0.0\n",
      "5   0.0       0.0    0.0\n",
      "6   0.0       0.0    0.0\n",
      "7   0.0       0.0    0.0\n",
      "8   0.0       0.0    0.0\n",
      "9   0.0       0.0    0.0\n"
     ]
    }
   ],
   "source": [
    "sns.set_style(\"whitegrid\")\n",
    "\n",
    "data = np.zeros((10, 3))\n",
    "\n",
    "df = pd.DataFrame(data, columns = ['Time', 'Distance', 'Force'])\n",
    "\n",
    "print(df)"
   ]
  },
  {
   "cell_type": "code",
   "execution_count": null,
   "metadata": {},
   "outputs": [],
   "source": []
  }
 ],
 "metadata": {
  "kernelspec": {
   "display_name": "Python 3",
   "language": "python",
   "name": "python3"
  },
  "language_info": {
   "codemirror_mode": {
    "name": "ipython",
    "version": 3
   },
   "file_extension": ".py",
   "mimetype": "text/x-python",
   "name": "python",
   "nbconvert_exporter": "python",
   "pygments_lexer": "ipython3",
   "version": "3.7.3"
  }
 },
 "nbformat": 4,
 "nbformat_minor": 2
}
