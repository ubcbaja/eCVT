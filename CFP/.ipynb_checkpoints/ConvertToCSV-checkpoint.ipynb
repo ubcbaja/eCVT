{
 "cells": [
  {
   "cell_type": "code",
   "execution_count": 2,
   "metadata": {
    "ExecuteTime": {
     "end_time": "2019-11-26T05:31:23.366629Z",
     "start_time": "2019-11-26T05:31:23.360833Z"
    }
   },
   "outputs": [],
   "source": [
    "import pandas as pd\n",
    "import numpy as np\n",
    "import matplotlib.pyplot as plt\n",
    "import seaborn as sns\n",
    "import time\n",
    "from datetime import datetime\n",
    "import sys"
   ]
  },
  {
   "cell_type": "code",
   "execution_count": 4,
   "metadata": {
    "ExecuteTime": {
     "end_time": "2019-11-26T05:31:35.657980Z",
     "start_time": "2019-11-26T05:31:35.481994Z"
    }
   },
   "outputs": [],
   "source": [
    "filePaths = [\"DistanceTest_2019_11_25_20_30_35_Run1.txt\", \"DistanceTest_2019_11_25_20_35_34_Run2.txt\", \\\n",
    "             \"DistanceTest_2019_11_25_20_37_42_Run3.txt\", \"DistanceTest_2019_11_25_20_40_25_Run4.txt\", \\\n",
    "             \"DistanceTest_2019_11_25_20_42_03_Run5.txt\", \"DistanceTest_2019_11_25_20_43_19_Run6.txt\", \\\n",
    "             \"DistanceTest_2019_11_25_20_46_02_Run7.txt\", \"DistanceTest_2019_11_25_20_48_00_Run8.txt\"]\n",
    "\n",
    "# dataframe = pandas.read_csv(\"SentiWS_v1.8c_Positive.txt\",delimiter=\"\\t\")\n",
    "\n",
    "for filePath in filePaths:\n",
    "    df = pd.read_csv(filePath, delimiter = \"\\t\")\n",
    "    df.to_csv(filePath + \".csv\")"
   ]
  },
  {
   "cell_type": "code",
   "execution_count": null,
   "metadata": {},
   "outputs": [],
   "source": []
  }
 ],
 "metadata": {
  "kernelspec": {
   "display_name": "Python 3",
   "language": "python",
   "name": "python3"
  },
  "language_info": {
   "codemirror_mode": {
    "name": "ipython",
    "version": 3
   },
   "file_extension": ".py",
   "mimetype": "text/x-python",
   "name": "python",
   "nbconvert_exporter": "python",
   "pygments_lexer": "ipython3",
   "version": "3.6.6"
  }
 },
 "nbformat": 4,
 "nbformat_minor": 2
}
