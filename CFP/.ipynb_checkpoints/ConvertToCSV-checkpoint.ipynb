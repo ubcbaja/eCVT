{
 "cells": [
  {
   "cell_type": "code",
   "execution_count": 10,
   "metadata": {
    "ExecuteTime": {
     "end_time": "2019-11-26T22:30:29.704783Z",
     "start_time": "2019-11-26T22:30:29.698798Z"
    }
   },
   "outputs": [
    {
     "data": {
      "text/plain": [
       "'\\nfor file in os.listdir(\"/mydir\"):\\n    if file.endswith(\".txt\"):\\n        print(os.path.join(\"/mydir\", file))\\n        \\n'"
      ]
     },
     "execution_count": 10,
     "metadata": {},
     "output_type": "execute_result"
    }
   ],
   "source": [
    "\"\"\"\n",
    "Script to find all tab delimited .txt files in current directory and save it as .csv\n",
    "\n",
    "E.g. Files name myTextFile1.txt and myTextFile2.txt in current directory will be saved as myTextFile1.csv and myTextFile2.csv\n",
    "\"\"\"\n",
    "\n",
    "import pandas as pd\n",
    "import numpy as np\n",
    "import matplotlib.pyplot as plt\n",
    "import seaborn as sns\n",
    "import time\n",
    "from datetime import datetime\n",
    "import sys\n",
    "import os"
   ]
  },
  {
   "cell_type": "code",
   "execution_count": 11,
   "metadata": {
    "ExecuteTime": {
     "end_time": "2019-11-26T22:30:30.565788Z",
     "start_time": "2019-11-26T22:30:30.560834Z"
    }
   },
   "outputs": [],
   "source": [
    "files = [] # get filepaths\n",
    "\n",
    "for i, file in enumerate(os.listdir(os.getcwd())):\n",
    "    if file.endswith(\".txt\"):\n",
    "        files.append(file)"
   ]
  },
  {
   "cell_type": "code",
   "execution_count": 14,
   "metadata": {
    "ExecuteTime": {
     "end_time": "2019-11-26T22:35:00.078559Z",
     "start_time": "2019-11-26T22:34:59.978815Z"
    }
   },
   "outputs": [],
   "source": [
    "# dataframe = pandas.read_csv(\"SentiWS_v1.8c_Positive.txt\",delimiter=\"\\t\")\n",
    "\n",
    "for file in files:\n",
    "    df = pd.read_csv(file, delimiter = \"\\t\")\n",
    "    file = file[:-4] # remove last 4 chars or \".txt\"\n",
    "    df.to_csv(file + \".csv\", index=False)"
   ]
  },
  {
   "cell_type": "code",
   "execution_count": null,
   "metadata": {},
   "outputs": [],
   "source": []
  }
 ],
 "metadata": {
  "kernelspec": {
   "display_name": "Python 3",
   "language": "python",
   "name": "python3"
  },
  "language_info": {
   "codemirror_mode": {
    "name": "ipython",
    "version": 3
   },
   "file_extension": ".py",
   "mimetype": "text/x-python",
   "name": "python",
   "nbconvert_exporter": "python",
   "pygments_lexer": "ipython3",
   "version": "3.6.6"
  }
 },
 "nbformat": 4,
 "nbformat_minor": 2
}
