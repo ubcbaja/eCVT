{
 "cells": [
  {
   "cell_type": "code",
   "execution_count": 14,
   "metadata": {
    "ExecuteTime": {
     "end_time": "2019-11-26T22:52:00.137288Z",
     "start_time": "2019-11-26T22:52:00.132331Z"
    }
   },
   "outputs": [],
   "source": [
    "import pandas as pd\n",
    "import numpy as np\n",
    "import matplotlib.pyplot as plt\n",
    "import seaborn as sns\n",
    "import time\n",
    "from datetime import datetime\n",
    "import sys\n",
    "import os"
   ]
  },
  {
   "cell_type": "code",
   "execution_count": 15,
   "metadata": {
    "ExecuteTime": {
     "end_time": "2019-11-26T22:52:07.594886Z",
     "start_time": "2019-11-26T22:52:07.586878Z"
    }
   },
   "outputs": [
    {
     "data": {
      "text/plain": [
       "['DistanceTest_2019_11_26_11_38_30_Run1.csv',\n",
       " 'DistanceTest_2019_11_26_11_44_18_Run2.csv',\n",
       " 'DistanceTest_2019_11_26_11_48_46_Run3.csv',\n",
       " 'DistanceTest_2019_11_26_11_49_57_Run4.csv',\n",
       " 'DistanceTest_2019_11_26_11_52_11_Run5.csv',\n",
       " 'DistanceTest_2019_11_26_11_53_40_Run6.csv',\n",
       " 'DistanceTest_2019_11_26_11_55_33_Run7.csv',\n",
       " 'DistanceTest_2019_11_26_11_57_38_Run8.csv',\n",
       " 'DistanceTest_2019_11_26_11_59_33_Run9.csv',\n",
       " 'DistanceTest_2019_11_26_12_00_50_Run10.csv']"
      ]
     },
     "execution_count": 15,
     "metadata": {},
     "output_type": "execute_result"
    }
   ],
   "source": [
    "sns.set_style(\"whitegrid\")\n",
    "\n",
    "# os.listdir(os.getcwd())\n",
    "\n",
    "files = [] # get filepaths\n",
    "\n",
    "for i, file in enumerate(os.listdir(os.getcwd())):\n",
    "    if file.endswith(\".csv\"):\n",
    "        files.append(file)\n",
    "        \n",
    "files"
   ]
  },
  {
   "cell_type": "code",
   "execution_count": 68,
   "metadata": {
    "ExecuteTime": {
     "end_time": "2019-11-28T20:49:34.528026Z",
     "start_time": "2019-11-28T20:49:29.340952Z"
    },
    "scrolled": false
   },
   "outputs": [
    {
     "name": "stdout",
     "output_type": "stream",
     "text": [
      "Figure saved\n",
      "Figure saved\n",
      "Figure saved\n",
      "Figure saved\n",
      "Figure saved\n",
      "Figure saved\n",
      "Figure saved\n",
      "Figure saved\n",
      "Figure saved\n",
      "Figure saved\n"
     ]
    }
   ],
   "source": [
    "lowLim = 30;\n",
    "upLim = 50;\n",
    "\n",
    "for file in files:\n",
    "    dfOriginal = pd.read_csv(file, encoding = 'utf-8')\n",
    "\n",
    "#     print(dfOriginal.head())\n",
    "\n",
    "#     ax = sns.scatterplot(x = \"Time (s)\", y = \"Range (mm)\", data = dfOriginal, hue = \"Range (mm)\")\n",
    "#     ax.set_ylim([lowLim, upLim])\n",
    "#     plt.title(\"PLOT ORIGINAL\")\n",
    "#     plt.yticks(np.arange(lowLim, upLim, step = 2))\n",
    "\n",
    "#     fig = plt.gcf() # get current figures\n",
    "#     fig.set_size_inches(20, 10)\n",
    "#     plt.close()\n",
    "\n",
    "    dfAveraged = dfOriginal\n",
    "\n",
    "    try:\n",
    "        dfAveraged.insert(2, \"Range Avg 3 (mm)\", value = np.NaN)\n",
    "        dfAveraged.insert(3, \"Range Avg 5 (mm)\", value = np.NaN)\n",
    "        dfAveraged.insert(4, \"Range Avg 8 (mm)\", value = np.NaN)\n",
    "        dfAveraged.insert(5, \"Range Avg 10 (mm)\", value = np.NaN)\n",
    "    except ValueError:\n",
    "        pass\n",
    "\n",
    "    dfAveraged[\"Range Avg 3 (mm)\"] = dfAveraged.rolling(window = 3)[\"Range (mm)\"].mean() \n",
    "    dfAveraged[\"Range Avg 5 (mm)\"] = dfAveraged.rolling(window = 5)[\"Range (mm)\"].mean() \n",
    "    dfAveraged[\"Range Avg 8 (mm)\"] = dfAveraged.rolling(window = 8)[\"Range (mm)\"].mean() \n",
    "    dfAveraged[\"Range Avg 10 (mm)\"] = dfAveraged.rolling(window = 10)[\"Range (mm)\"].mean() \n",
    "\n",
    "    # Take time derivatives to get velocity\n",
    "    dfAveraged[\"Velocity Avg 3 (mm/s)\"] = np.gradient(dfAveraged[\"Range Avg 3 (mm)\"], dfAveraged[\"Time (s)\"])\n",
    "    dfAveraged[\"Velocity Avg 10 (mm/s)\"] = np.gradient(dfAveraged[\"Range Avg 10 (mm)\"], dfAveraged[\"Time (s)\"])\n",
    "    dfAveraged[\"Velocity Avg 3 Manual (mm/s)\"] = dfAveraged[\"Range Avg 3 (mm)\"].diff()/(dfAveraged[\"Time (s)\"].diff())\n",
    "    \n",
    "    # Get averages of velocity to smoothen\n",
    "    \n",
    "    dfAveraged[\"Average of Vel Avg 3\"] = dfAveraged.rolling(window = 3)[\"Velocity Avg 3 (mm/s)\"].mean()\n",
    "    dfAveraged[\"Average of Manual Vel Avg 3\"] = dfAveraged.rolling(window = 3)[\"Velocity Avg 3 Manual (mm/s)\"].mean()\n",
    "\n",
    "#     print(dfAveraged.head(10))\n",
    "    \n",
    "    # Plot stuff\n",
    "    ax = sns.lineplot(x = \"Time (s)\", y = \"Range (mm)\", data = dfOriginal, color = \"orange\")\n",
    "    ax = sns.lineplot(x = \"Time (s)\", y = \"Range Avg 3 (mm)\", data = dfOriginal, color = \"red\")\n",
    "    ax = sns.lineplot(x = \"Time (s)\", y = \"Velocity Avg 3 (mm/s)\", data = dfOriginal, color = \"blue\")\n",
    "#     ax = sns.lineplot(x = \"Time (s)\", y = \"Velocity Avg 3 Manual (mm/s)\", data = dfOriginal, color = \"purple\")\n",
    "    ax = sns.lineplot(x = \"Time (s)\", y = \"Average of Vel Avg 3\", data = dfOriginal, color = \"red\")\n",
    "#     ax = sns.lineplot(x = \"Time (s)\", y = \"Average of Manual Vel Avg 3\", data = dfOriginal, color = \"green\")\n",
    "    \n",
    "    fig = plt.gcf() # get current figures\n",
    "    fig.legend(labels = [\"Distance\", \"Distance of Avg 3\", \"Velocity of Avg 3\", \\\n",
    "                        \"Avg Vel of Avg 3\"], loc = \"right\")\n",
    "    ax.set_ylim([-10, upLim])\n",
    "    plt.yticks(np.arange(-10, upLim, step = 1))\n",
    "    plt.xticks(np.arange(0, 60, step = 4))\n",
    "    fig.set_size_inches(30, 20)\n",
    "    plt.title(\"Velocity Comparisons\")\n",
    "    \n",
    "    # Save file\n",
    "    file = file[:-4] # remove last 4 chars or \".txt\"\n",
    "    fig.savefig(file + \"_Velocities\" + \".pdf\", dpi = 2400)\n",
    "    print(\"Figure saved\")\n",
    "    \n",
    "#     # To plot and save averaged data\n",
    "#     ax = sns.lineplot(x = \"Time (s)\", y = \"Range (mm)\", data = dfOriginal, color = \"orange\")\n",
    "#     ax = sns.lineplot(x = \"Time (s)\", y = \"Range Avg 3 (mm)\", data = dfOriginal, color = \"purple\")\n",
    "#     ax = sns.lineplot(x = \"Time (s)\", y = \"Range Avg 5 (mm)\", data = dfOriginal, color = \"red\")\n",
    "#     ax = sns.lineplot(x = \"Time (s)\", y = \"Range Avg 8 (mm)\", data = dfOriginal, color = \"blue\")\n",
    "#     ax = sns.lineplot(x = \"Time (s)\", y = \"Range Avg 10 (mm)\", data = dfOriginal, color = \"green\")\n",
    "\n",
    "#     ax.set_ylim([lowLim, upLim])\n",
    "#     plt.title(\"PLOT RUNNING AVERAGES\")\n",
    "#     plt.ylabel(\"Distance (mm)\")\n",
    "#     plt.yticks(np.arange(lowLim, upLim, step = 1))\n",
    "\n",
    "#     fig = plt.gcf() # get current figures\n",
    "#     fig.legend(labels = [\"Original\", \"Average of 3\", \"Average of 5\", \"Average of 8\", \"Average of 10\"], loc = \"right\")\n",
    "#     fig.set_size_inches(20, 10)\n",
    "\n",
    "#     currentDT = datetime.now()\n",
    "#     file = file[:-4] # remove last 4 chars or \".txt\"\n",
    "#     fig.savefig(file + \".pdf\", dpi = 2400)\n",
    "#     print(\"Figure saved\")\n",
    "    \n",
    "#     # Save as CSV\n",
    "#     dfAveraged.to_csv(file + \"_Processed_Output.csv\", index=False)\n",
    "    \n",
    "    plt.close()"
   ]
  },
  {
   "cell_type": "code",
   "execution_count": null,
   "metadata": {},
   "outputs": [],
   "source": []
  }
 ],
 "metadata": {
  "kernelspec": {
   "display_name": "Python 3",
   "language": "python",
   "name": "python3"
  },
  "language_info": {
   "codemirror_mode": {
    "name": "ipython",
    "version": 3
   },
   "file_extension": ".py",
   "mimetype": "text/x-python",
   "name": "python",
   "nbconvert_exporter": "python",
   "pygments_lexer": "ipython3",
   "version": "3.6.6"
  }
 },
 "nbformat": 4,
 "nbformat_minor": 2
}
